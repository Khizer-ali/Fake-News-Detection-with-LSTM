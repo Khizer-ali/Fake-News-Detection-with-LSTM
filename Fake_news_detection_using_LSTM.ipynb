{
  "cells": [
    {
      "cell_type": "markdown",
      "metadata": {
        "id": "dbcFTHiJAEFg"
      },
      "source": [
        "Importing Libraries"
      ]
    },
    {
      "cell_type": "code",
      "execution_count": 31,
      "metadata": {
        "id": "1iWiJlBZ7ydg"
      },
      "outputs": [],
      "source": [
        "import pandas as pd\n",
        "import numpy as np\n",
        "import seaborn as sns\n",
        "import matplotlib.pyplot as plt\n",
        "import nltk\n",
        "import re\n",
        "from wordcloud import WordCloud"
      ]
    },
    {
      "cell_type": "code",
      "execution_count": 32,
      "metadata": {
        "id": "LcDYvymbJXSx"
      },
      "outputs": [],
      "source": [
        "from sklearn.utils.class_weight import compute_class_weight"
      ]
    },
    {
      "cell_type": "code",
      "execution_count": 33,
      "metadata": {
        "colab": {
          "base_uri": "https://localhost:8080/"
        },
        "id": "l-_YNPeKBtHY",
        "outputId": "876df553-7ead-4da6-c58a-bf8a4329eb66"
      },
      "outputs": [
        {
          "name": "stderr",
          "output_type": "stream",
          "text": [
            "[nltk_data] Downloading package stopwords to /root/nltk_data...\n",
            "[nltk_data]   Package stopwords is already up-to-date!\n"
          ]
        }
      ],
      "source": [
        "nltk.download('stopwords')\n",
        "from nltk.corpus import stopwords\n",
        "stop_words = set(stopwords.words('english'))"
      ]
    },
    {
      "cell_type": "code",
      "execution_count": 34,
      "metadata": {
        "id": "KiXF6u3q2iZR"
      },
      "outputs": [],
      "source": [
        "from sklearn.model_selection import train_test_split\n",
        "from sklearn.metrics import accuracy_score,confusion_matrix,classification_report"
      ]
    },
    {
      "cell_type": "code",
      "execution_count": 35,
      "metadata": {
        "id": "GdUQTqeavU8t"
      },
      "outputs": [],
      "source": [
        "from tensorflow.keras.callbacks import EarlyStopping"
      ]
    },
    {
      "cell_type": "code",
      "execution_count": 36,
      "metadata": {
        "id": "tLV9YN8e9EJl"
      },
      "outputs": [],
      "source": [
        "from tensorflow.keras.preprocessing.text import Tokenizer\n",
        "from tensorflow.keras.preprocessing.sequence import pad_sequences\n",
        "from tensorflow.keras.models import Sequential\n",
        "from tensorflow.keras.layers import Dense,Embedding,LSTM,MaxPool1D,Conv1D\n",
        "\n"
      ]
    },
    {
      "cell_type": "markdown",
      "metadata": {
        "id": "gCQ-oM5KAJxr"
      },
      "source": [
        "Importing Datasets"
      ]
    },
    {
      "cell_type": "code",
      "execution_count": 37,
      "metadata": {
        "id": "yUKgQaCYALUt"
      },
      "outputs": [],
      "source": [
        "fake_news = pd.read_csv('/content/Fake.csv')\n",
        "true_news = pd.read_csv('/content/True.csv')"
      ]
    },
    {
      "cell_type": "markdown",
      "metadata": {
        "id": "UfAU3sc8ETQc"
      },
      "source": [
        "WordCloud\n"
      ]
    },
    {
      "cell_type": "code",
      "execution_count": null,
      "metadata": {
        "id": "yS-zsuOgA_wN"
      },
      "outputs": [],
      "source": [
        "\n",
        "def plot_wordcloud(text, title):\n",
        "    wordcloud = WordCloud(width=1920, height=1080).generate(\" \".join(text))\n",
        "    plt.figure(figsize=(10, 10))\n",
        "    plt.imshow(wordcloud, interpolation='bilinear')\n",
        "    plt.axis(\"off\")\n",
        "    plt.title(title)\n",
        "    plt.show()\n",
        "\n",
        "plot_wordcloud(fake_news['title'], \"Fake News WordCloud\")\n",
        "plot_wordcloud(true_news['title'], \"True News WordCloud\")"
      ]
    },
    {
      "cell_type": "markdown",
      "metadata": {
        "id": "DQrg_QUGJCFL"
      },
      "source": [
        "Dataset preprocessing"
      ]
    },
    {
      "cell_type": "code",
      "execution_count": 39,
      "metadata": {
        "id": "qr70YAz8BiIN"
      },
      "outputs": [],
      "source": [
        "true_news['class'] = 1\n",
        "fake_news['class'] = 0\n",
        "\n",
        "\n",
        "\n",
        "data = pd.concat([fake_news, true_news], axis=0).sample(frac=1).reset_index(drop=True)\n",
        "\n",
        "\n",
        "\n",
        "def clean_text(text):\n",
        "    text = re.sub(r'[^a-zA-Z]', ' ', text)\n",
        "    text = text.lower().split()\n",
        "    text = [word for word in text if word not in stop_words]\n",
        "    return \" \".join(text)\n",
        "\n",
        "data['title'] = data['title'].fillna('').apply(clean_text)"
      ]
    },
    {
      "cell_type": "markdown",
      "metadata": {
        "id": "UXS5djqLW_Hq"
      },
      "source": [
        "Visualizing data distribution"
      ]
    },
    {
      "cell_type": "code",
      "execution_count": null,
      "metadata": {
        "id": "F345jkth2ANs"
      },
      "outputs": [],
      "source": [
        "label_counts = data['class'].value_counts()\n",
        "labels = ['Fake News', 'Real News']\n",
        "sizes = [label_counts[0], label_counts[1]]\n",
        "colors = ['lightcoral', 'lightgreen']\n",
        "plt.figure(figsize=(6, 6))\n",
        "plt.pie(sizes, labels=labels, colors=colors,autopct='%1.1f%%', startangle=90, shadow=True)\n",
        "plt.title('Fake vs Real News Distribution')\n",
        "plt.axis('equal')\n",
        "plt.show()\n"
      ]
    },
    {
      "cell_type": "code",
      "execution_count": 41,
      "metadata": {
        "colab": {
          "base_uri": "https://localhost:8080/",
          "height": 206
        },
        "id": "2j6IT-9qt3kA",
        "outputId": "a913ffd1-6fc3-4bc8-bbc3-874e94d297a4"
      },
      "outputs": [
        {
          "data": {
            "application/vnd.google.colaboratory.intrinsic+json": {
              "summary": "{\n  \"name\": \"data\",\n  \"rows\": 44898,\n  \"fields\": [\n    {\n      \"column\": \"title\",\n      \"properties\": {\n        \"dtype\": \"string\",\n        \"num_unique_values\": 38678,\n        \"samples\": [\n          \"republican kasich suspends presidential campaign nbc politico\",\n          \"responsible gun owner shot girlfriend beaten unconscious partygoers video\",\n          \"take rohingya muslims flee myanmar new surge\"\n        ],\n        \"semantic_type\": \"\",\n        \"description\": \"\"\n      }\n    },\n    {\n      \"column\": \"text\",\n      \"properties\": {\n        \"dtype\": \"string\",\n        \"num_unique_values\": 38646,\n        \"samples\": [\n          \"BRASILIA (Reuters) - Congressmen from Brazil s Social Democratic Party (PSD) on Wednesday invited Finance Minister Henrique Meirelles to run for president in 2018, growing the list of potential contenders from within President Michel Temer s fragmented coalition. Meirelles, after meeting with PSD lawmakers at his house in Brasilia, wrote on Twitter that he felt honored but was not a candidate. The PSD leader in the lower house of Congress, Marcos Montes, nevertheless said Meirelles received the invitation with  enthusiasm  but would not respond immediately. Reuters reported late in August, citing a source close to Meirelles, that he wanted to run for president on the PSD ticket, but knew he would have a strong chance only if the economy improved substantially. Meirelles, in his Twitter post, said that he was focusing his energies on helping Brazil obtain  sustainable growth  after emerging from its worst recorded recession.  Under Brazilian rules, ministers who wish to run in the October 2018 election will need to leave their posts by April, although a formal register would only happen in August. Other potential contenders being floated by ruling parties include Sao Paulo state governor Geraldo Alckmin and Sao Paulo city mayor Jo o Doria Jr., both from the PSDB party.  A civil engineer by training, Meirelles is the former chairman of now defunct BankBoston Corp and former president of Brazil s central bank. \",\n          \"Donald Trump s trainwreck interview with Chris Matthews wasn t just notable for his abhorrent views on abortion, but also because he took the time to remind people that he hasn t stopped being a horrible racist, too.In a window into what a Trump presidency might realistically look like, Trump told Matthews that he wasn t above playing favorites for his friends when he imposed his ban on Muslims entering the United States. While the majority of Muslims would be blocked regardless of circumstance, his  very rich Muslim friends  (i.e. the ones he has business deals with) can get a pass. He trusts them   because they make him money. I have actually believe it or not, I have a lot of friends that are Muslim and they call me,  Trump said, when asked about his plan by MSNBC s Chris Matthews, the event s moderator.  In most cases, they re very rich Muslims, OK? Matthews then asked Trump if his rich Muslim friends would be able enter the country under Trump s Muslim ban.  They ll come in,  Trump said.  You ll have exceptions. Trump has often brought up his  Muslim friends  who he routinely claims call him non-stop to tell him what a great job he s doing at being xenophobic towards Muslims. It might be tempting to claim that these Muslims are fictions of his imagination, a cheap talking point to justify his reprehensible plans for very real Muslims. However, it appears he really does have a few Muslim friends, but not exactly salt-of-the-earth types. He means autocrats in Middle Eastern nations. As the Daily Beast wrote about in late 2015:There s one type of Muslim Trump really loves: The ones that make him big bucks. You see, if a Muslim can show Trump the money, then all those concerns he has with Muslims go right out the window of his private jet as he jets off to the Gulf to cash in.For example, Trump loves Hussain Sajwani, head of the Dubai luxury real estate company Damac Properties. Trump has called the Muslim Sajwani a  good friend  and a  great man,  among other accolades. And in May 2014, The Donald even flew off to Dubai to spend time with his Muslim friend as they announced the massive real estate project they were teaming up to create in the United Arab Emirates.Trump, of course, has no qualms with working with Muslims if they can make his bank account grow. Suddenly, the people whose faith he thinks is hellbent on destroying America, aren t so bad. This duality makes his bigotry that much worse   he s really not that committed to it. Like any good hate-monger, Trump scapegoats Muslims to rile up his deeply anti-Muslim base. It s led to vicious hate crimes against innocent Muslim Americans, including assaults and arson. It s also led to Trump s surge in the polls. But underlying the smears and falsehoods, is a calculated stab at winning an election via exploitation of fear and hate.So of course he would let his  very rich Muslim friends  in. His Islamophobia isn t personal. It s business.Featured image via Chip Somodevilla/Getty Images\",\n          \"Donald Trump claims the election is rigged and Fox host Sean Hannity irresponsibly does not challenge him, so CNN s Brian Stelter blasted him.The Republican nominee is already making excuses in preparation for when he loses the election in November by claiming without any proof that the election is somehow rigged in favor of Hillary Clinton. And Hannity has been only too happy to let Trump make his unsubstantiated claims on his show, which will likely anger Fox viewers and make them even more paranoid than they already are.So Brian Stelter used the end of his show on Sunday to teach Hannity how real journalists interview candidates.  Let me show you how not to interview a candidate about something as serious as this,  he began before slamming Hannity for  failing  his audience. Hannity s not a journalist, but he has a megaphone, and he s using his megaphone irresponsibly. If a Democratic candidate were saying this stuff saying the election could be rigged then every word of this essay would apply to him or her. But right now, it s the Republican candidate for president who s trying to delegitimize our democratic process without proof. It is unpatriotic for any interviewer or any journalist to help him. Indeed, if the shoe were on the other foot Hannity wouldn t give a damn at all. He would call any Democratic claims of a rigged election absurd. You know, because only Republicans win elections fairly. If they lose it must be because the election was  rigged. Here s the video via YouTube.And of course, being as thin skinned as Trump, Hannity lashed out on Twitter.Hey Brian check Philly enquirer after 2012. How many districts not a single Romney vote. Check Cleveland. Do u prep? https://t.co/5XORZzkdXQ  Sean Hannity (@seanhannity) August 7, 2016 Philly Inquirer. https://t.co/5XORZzBPmq  Sean Hannity (@seanhannity) August 7, 201659?? https://t.co/9PX2hcLdz3  Sean Hannity (@seanhannity) August 7, 2016 Calling us unpatriotic? 59 districts not one Romney vote. So you are voting for the liar HRC. Did DNC hurt Bernie? https://t.co/Wuf5Sv9nCR  Sean Hannity (@seanhannity) August 7, 2016 Unreliable liberal sources.  Brian, answer a simple question. Is HRC a liar? https://t.co/Wuf5Sv9nCR  Sean Hannity (@seanhannity) August 7, 2016As you can see, Hannity is citing a single newspaper report in order to claim that the election is rigged because not a single person voted for Romney in 59 districts in Philadelphia in 2012.But the Philadelphia Inquirer itself conceded that  such results may not be so startling after all  considering Philadelphia has a majority African-American population especially in these urban districts. In fact, when the Inquirer attempted to find the few Republicans listed in the voter registry they had either moved away or had voted for Obama after being mistakenly identified as Republicans.They also noted that John McCain didn t receive a single vote in 57 of the districts in 2008.The Inquirer also pointed out the factors that led to such a lopsided result.First, President Obama is the first African-American president, so black voters were especially supportive of him. Obama won 93 percent of the black vote nationwide.Second, Republicans have largely abandoned fighting for things African-Americans care about like affirmative action and urban development.Third,  many parts of Philadelphia and other big cities simply lack Republican voters  and it has been this way for decades going all the way back to Franklin D. Roosevelt s presidency.And finally, Romney said a lot of stupid things, including commenting about people  wanting free stuff from the government  after visiting the NAACP. Such comments did not go down well with the black community who felt Romney was talking about them.Factcheck.org even pointed out that  the 59 that went 100 percent for Obama in 2012 constitute 19,605 votes, just 3 percent of the total votes cast in the city. Of course, if Hannity really wants to bring up Philadelphia as some kind of proof that Democrats rig elections, we could similarly point out that some precincts in Utah voted unanimously for Romney. Does that mean Republicans rigged the election there? Or does Hannity just deal in double standards?Featured Image: Screenshot \"\n        ],\n        \"semantic_type\": \"\",\n        \"description\": \"\"\n      }\n    },\n    {\n      \"column\": \"subject\",\n      \"properties\": {\n        \"dtype\": \"category\",\n        \"num_unique_values\": 8,\n        \"samples\": [\n          \"News\",\n          \"Government News\",\n          \"politics\"\n        ],\n        \"semantic_type\": \"\",\n        \"description\": \"\"\n      }\n    },\n    {\n      \"column\": \"date\",\n      \"properties\": {\n        \"dtype\": \"category\",\n        \"num_unique_values\": 2397,\n        \"samples\": [\n          \"November 5, 2016 \",\n          \"November 18, 2016\",\n          \"December 30, 2016 \"\n        ],\n        \"semantic_type\": \"\",\n        \"description\": \"\"\n      }\n    },\n    {\n      \"column\": \"class\",\n      \"properties\": {\n        \"dtype\": \"number\",\n        \"std\": 0,\n        \"min\": 0,\n        \"max\": 1,\n        \"num_unique_values\": 2,\n        \"samples\": [\n          1,\n          0\n        ],\n        \"semantic_type\": \"\",\n        \"description\": \"\"\n      }\n    }\n  ]\n}",
              "type": "dataframe",
              "variable_name": "data"
            },
            "text/html": [
              "\n",
              "  <div id=\"df-4546e68d-9431-4108-b6c1-80239d6ca024\" class=\"colab-df-container\">\n",
              "    <div>\n",
              "<style scoped>\n",
              "    .dataframe tbody tr th:only-of-type {\n",
              "        vertical-align: middle;\n",
              "    }\n",
              "\n",
              "    .dataframe tbody tr th {\n",
              "        vertical-align: top;\n",
              "    }\n",
              "\n",
              "    .dataframe thead th {\n",
              "        text-align: right;\n",
              "    }\n",
              "</style>\n",
              "<table border=\"1\" class=\"dataframe\">\n",
              "  <thead>\n",
              "    <tr style=\"text-align: right;\">\n",
              "      <th></th>\n",
              "      <th>title</th>\n",
              "      <th>text</th>\n",
              "      <th>subject</th>\n",
              "      <th>date</th>\n",
              "      <th>class</th>\n",
              "    </tr>\n",
              "  </thead>\n",
              "  <tbody>\n",
              "    <tr>\n",
              "      <th>0</th>\n",
              "      <td>donald trump diet lifelong liberal tells lefti...</td>\n",
              "      <td>Every single day, liberals provide more and mo...</td>\n",
              "      <td>politics</td>\n",
              "      <td>Dec 8, 2017</td>\n",
              "      <td>0</td>\n",
              "    </tr>\n",
              "    <tr>\n",
              "      <th>1</th>\n",
              "      <td>largest gun control study history completed nr...</td>\n",
              "      <td>While Republicans and their NRA puppet masters...</td>\n",
              "      <td>News</td>\n",
              "      <td>March 2, 2016</td>\n",
              "      <td>0</td>\n",
              "    </tr>\n",
              "    <tr>\n",
              "      <th>2</th>\n",
              "      <td>pope makes visit nuns obama regime suing confo...</td>\n",
              "      <td>Leave it to our Community Organizer In Chief t...</td>\n",
              "      <td>left-news</td>\n",
              "      <td>Sep 24, 2015</td>\n",
              "      <td>0</td>\n",
              "    </tr>\n",
              "    <tr>\n",
              "      <th>3</th>\n",
              "      <td>trump speaks qatar emir gulf unity terrorism f...</td>\n",
              "      <td>WASHINGTON (Reuters) - President Donald Trump ...</td>\n",
              "      <td>worldnews</td>\n",
              "      <td>September 8, 2017</td>\n",
              "      <td>1</td>\n",
              "    </tr>\n",
              "    <tr>\n",
              "      <th>4</th>\n",
              "      <td>exclusive post election liberal meltdown expla...</td>\n",
              "      <td>If you re like me . . . it s probably been an ...</td>\n",
              "      <td>politics</td>\n",
              "      <td>Feb 23, 2017</td>\n",
              "      <td>0</td>\n",
              "    </tr>\n",
              "  </tbody>\n",
              "</table>\n",
              "</div>\n",
              "    <div class=\"colab-df-buttons\">\n",
              "\n",
              "  <div class=\"colab-df-container\">\n",
              "    <button class=\"colab-df-convert\" onclick=\"convertToInteractive('df-4546e68d-9431-4108-b6c1-80239d6ca024')\"\n",
              "            title=\"Convert this dataframe to an interactive table.\"\n",
              "            style=\"display:none;\">\n",
              "\n",
              "  <svg xmlns=\"http://www.w3.org/2000/svg\" height=\"24px\" viewBox=\"0 -960 960 960\">\n",
              "    <path d=\"M120-120v-720h720v720H120Zm60-500h600v-160H180v160Zm220 220h160v-160H400v160Zm0 220h160v-160H400v160ZM180-400h160v-160H180v160Zm440 0h160v-160H620v160ZM180-180h160v-160H180v160Zm440 0h160v-160H620v160Z\"/>\n",
              "  </svg>\n",
              "    </button>\n",
              "\n",
              "  <style>\n",
              "    .colab-df-container {\n",
              "      display:flex;\n",
              "      gap: 12px;\n",
              "    }\n",
              "\n",
              "    .colab-df-convert {\n",
              "      background-color: #E8F0FE;\n",
              "      border: none;\n",
              "      border-radius: 50%;\n",
              "      cursor: pointer;\n",
              "      display: none;\n",
              "      fill: #1967D2;\n",
              "      height: 32px;\n",
              "      padding: 0 0 0 0;\n",
              "      width: 32px;\n",
              "    }\n",
              "\n",
              "    .colab-df-convert:hover {\n",
              "      background-color: #E2EBFA;\n",
              "      box-shadow: 0px 1px 2px rgba(60, 64, 67, 0.3), 0px 1px 3px 1px rgba(60, 64, 67, 0.15);\n",
              "      fill: #174EA6;\n",
              "    }\n",
              "\n",
              "    .colab-df-buttons div {\n",
              "      margin-bottom: 4px;\n",
              "    }\n",
              "\n",
              "    [theme=dark] .colab-df-convert {\n",
              "      background-color: #3B4455;\n",
              "      fill: #D2E3FC;\n",
              "    }\n",
              "\n",
              "    [theme=dark] .colab-df-convert:hover {\n",
              "      background-color: #434B5C;\n",
              "      box-shadow: 0px 1px 3px 1px rgba(0, 0, 0, 0.15);\n",
              "      filter: drop-shadow(0px 1px 2px rgba(0, 0, 0, 0.3));\n",
              "      fill: #FFFFFF;\n",
              "    }\n",
              "  </style>\n",
              "\n",
              "    <script>\n",
              "      const buttonEl =\n",
              "        document.querySelector('#df-4546e68d-9431-4108-b6c1-80239d6ca024 button.colab-df-convert');\n",
              "      buttonEl.style.display =\n",
              "        google.colab.kernel.accessAllowed ? 'block' : 'none';\n",
              "\n",
              "      async function convertToInteractive(key) {\n",
              "        const element = document.querySelector('#df-4546e68d-9431-4108-b6c1-80239d6ca024');\n",
              "        const dataTable =\n",
              "          await google.colab.kernel.invokeFunction('convertToInteractive',\n",
              "                                                    [key], {});\n",
              "        if (!dataTable) return;\n",
              "\n",
              "        const docLinkHtml = 'Like what you see? Visit the ' +\n",
              "          '<a target=\"_blank\" href=https://colab.research.google.com/notebooks/data_table.ipynb>data table notebook</a>'\n",
              "          + ' to learn more about interactive tables.';\n",
              "        element.innerHTML = '';\n",
              "        dataTable['output_type'] = 'display_data';\n",
              "        await google.colab.output.renderOutput(dataTable, element);\n",
              "        const docLink = document.createElement('div');\n",
              "        docLink.innerHTML = docLinkHtml;\n",
              "        element.appendChild(docLink);\n",
              "      }\n",
              "    </script>\n",
              "  </div>\n",
              "\n",
              "\n",
              "    <div id=\"df-7f5010ad-dccd-4060-9ade-56bb67a547ad\">\n",
              "      <button class=\"colab-df-quickchart\" onclick=\"quickchart('df-7f5010ad-dccd-4060-9ade-56bb67a547ad')\"\n",
              "                title=\"Suggest charts\"\n",
              "                style=\"display:none;\">\n",
              "\n",
              "<svg xmlns=\"http://www.w3.org/2000/svg\" height=\"24px\"viewBox=\"0 0 24 24\"\n",
              "     width=\"24px\">\n",
              "    <g>\n",
              "        <path d=\"M19 3H5c-1.1 0-2 .9-2 2v14c0 1.1.9 2 2 2h14c1.1 0 2-.9 2-2V5c0-1.1-.9-2-2-2zM9 17H7v-7h2v7zm4 0h-2V7h2v10zm4 0h-2v-4h2v4z\"/>\n",
              "    </g>\n",
              "</svg>\n",
              "      </button>\n",
              "\n",
              "<style>\n",
              "  .colab-df-quickchart {\n",
              "      --bg-color: #E8F0FE;\n",
              "      --fill-color: #1967D2;\n",
              "      --hover-bg-color: #E2EBFA;\n",
              "      --hover-fill-color: #174EA6;\n",
              "      --disabled-fill-color: #AAA;\n",
              "      --disabled-bg-color: #DDD;\n",
              "  }\n",
              "\n",
              "  [theme=dark] .colab-df-quickchart {\n",
              "      --bg-color: #3B4455;\n",
              "      --fill-color: #D2E3FC;\n",
              "      --hover-bg-color: #434B5C;\n",
              "      --hover-fill-color: #FFFFFF;\n",
              "      --disabled-bg-color: #3B4455;\n",
              "      --disabled-fill-color: #666;\n",
              "  }\n",
              "\n",
              "  .colab-df-quickchart {\n",
              "    background-color: var(--bg-color);\n",
              "    border: none;\n",
              "    border-radius: 50%;\n",
              "    cursor: pointer;\n",
              "    display: none;\n",
              "    fill: var(--fill-color);\n",
              "    height: 32px;\n",
              "    padding: 0;\n",
              "    width: 32px;\n",
              "  }\n",
              "\n",
              "  .colab-df-quickchart:hover {\n",
              "    background-color: var(--hover-bg-color);\n",
              "    box-shadow: 0 1px 2px rgba(60, 64, 67, 0.3), 0 1px 3px 1px rgba(60, 64, 67, 0.15);\n",
              "    fill: var(--button-hover-fill-color);\n",
              "  }\n",
              "\n",
              "  .colab-df-quickchart-complete:disabled,\n",
              "  .colab-df-quickchart-complete:disabled:hover {\n",
              "    background-color: var(--disabled-bg-color);\n",
              "    fill: var(--disabled-fill-color);\n",
              "    box-shadow: none;\n",
              "  }\n",
              "\n",
              "  .colab-df-spinner {\n",
              "    border: 2px solid var(--fill-color);\n",
              "    border-color: transparent;\n",
              "    border-bottom-color: var(--fill-color);\n",
              "    animation:\n",
              "      spin 1s steps(1) infinite;\n",
              "  }\n",
              "\n",
              "  @keyframes spin {\n",
              "    0% {\n",
              "      border-color: transparent;\n",
              "      border-bottom-color: var(--fill-color);\n",
              "      border-left-color: var(--fill-color);\n",
              "    }\n",
              "    20% {\n",
              "      border-color: transparent;\n",
              "      border-left-color: var(--fill-color);\n",
              "      border-top-color: var(--fill-color);\n",
              "    }\n",
              "    30% {\n",
              "      border-color: transparent;\n",
              "      border-left-color: var(--fill-color);\n",
              "      border-top-color: var(--fill-color);\n",
              "      border-right-color: var(--fill-color);\n",
              "    }\n",
              "    40% {\n",
              "      border-color: transparent;\n",
              "      border-right-color: var(--fill-color);\n",
              "      border-top-color: var(--fill-color);\n",
              "    }\n",
              "    60% {\n",
              "      border-color: transparent;\n",
              "      border-right-color: var(--fill-color);\n",
              "    }\n",
              "    80% {\n",
              "      border-color: transparent;\n",
              "      border-right-color: var(--fill-color);\n",
              "      border-bottom-color: var(--fill-color);\n",
              "    }\n",
              "    90% {\n",
              "      border-color: transparent;\n",
              "      border-bottom-color: var(--fill-color);\n",
              "    }\n",
              "  }\n",
              "</style>\n",
              "\n",
              "      <script>\n",
              "        async function quickchart(key) {\n",
              "          const quickchartButtonEl =\n",
              "            document.querySelector('#' + key + ' button');\n",
              "          quickchartButtonEl.disabled = true;  // To prevent multiple clicks.\n",
              "          quickchartButtonEl.classList.add('colab-df-spinner');\n",
              "          try {\n",
              "            const charts = await google.colab.kernel.invokeFunction(\n",
              "                'suggestCharts', [key], {});\n",
              "          } catch (error) {\n",
              "            console.error('Error during call to suggestCharts:', error);\n",
              "          }\n",
              "          quickchartButtonEl.classList.remove('colab-df-spinner');\n",
              "          quickchartButtonEl.classList.add('colab-df-quickchart-complete');\n",
              "        }\n",
              "        (() => {\n",
              "          let quickchartButtonEl =\n",
              "            document.querySelector('#df-7f5010ad-dccd-4060-9ade-56bb67a547ad button');\n",
              "          quickchartButtonEl.style.display =\n",
              "            google.colab.kernel.accessAllowed ? 'block' : 'none';\n",
              "        })();\n",
              "      </script>\n",
              "    </div>\n",
              "\n",
              "    </div>\n",
              "  </div>\n"
            ],
            "text/plain": [
              "                                               title  \\\n",
              "0  donald trump diet lifelong liberal tells lefti...   \n",
              "1  largest gun control study history completed nr...   \n",
              "2  pope makes visit nuns obama regime suing confo...   \n",
              "3  trump speaks qatar emir gulf unity terrorism f...   \n",
              "4  exclusive post election liberal meltdown expla...   \n",
              "\n",
              "                                                text    subject  \\\n",
              "0  Every single day, liberals provide more and mo...   politics   \n",
              "1  While Republicans and their NRA puppet masters...       News   \n",
              "2  Leave it to our Community Organizer In Chief t...  left-news   \n",
              "3  WASHINGTON (Reuters) - President Donald Trump ...  worldnews   \n",
              "4  If you re like me . . . it s probably been an ...   politics   \n",
              "\n",
              "                 date  class  \n",
              "0         Dec 8, 2017      0  \n",
              "1       March 2, 2016      0  \n",
              "2        Sep 24, 2015      0  \n",
              "3  September 8, 2017       1  \n",
              "4        Feb 23, 2017      0  "
            ]
          },
          "execution_count": 41,
          "metadata": {},
          "output_type": "execute_result"
        }
      ],
      "source": [
        "data.head()"
      ]
    },
    {
      "cell_type": "code",
      "execution_count": 42,
      "metadata": {
        "id": "PRumwE4ufMDM"
      },
      "outputs": [],
      "source": [
        "df = pd.DataFrame(data)\n",
        "X = df['title'].values\n",
        "y = df['class'].values"
      ]
    },
    {
      "cell_type": "markdown",
      "metadata": {
        "id": "ktvjtFxxgFWW"
      },
      "source": [
        "Tokenization"
      ]
    },
    {
      "cell_type": "code",
      "execution_count": 43,
      "metadata": {
        "id": "TcnN6paQnG4L"
      },
      "outputs": [],
      "source": [
        "tokenizer = Tokenizer(num_words=5000, oov_token=\"<OOV>\")\n",
        "tokenizer.fit_on_texts(X)\n",
        "sequences = tokenizer.texts_to_sequences(X)\n",
        "maxlen = 20\n",
        "X_padded = pad_sequences(sequences, maxlen=maxlen, padding='post')"
      ]
    },
    {
      "cell_type": "markdown",
      "metadata": {
        "id": "CYbFJfPhXSRZ"
      },
      "source": [
        "Using and importing LSTM model"
      ]
    },
    {
      "cell_type": "code",
      "execution_count": 44,
      "metadata": {
        "colab": {
          "base_uri": "https://localhost:8080/"
        },
        "id": "TKdus--qE97g",
        "outputId": "6786d9cb-d7dc-4d4e-b277-65ddc390bbd4"
      },
      "outputs": [
        {
          "name": "stdout",
          "output_type": "stream",
          "text": [
            "Epoch 1/10\n"
          ]
        },
        {
          "name": "stderr",
          "output_type": "stream",
          "text": [
            "/usr/local/lib/python3.11/dist-packages/keras/src/layers/core/embedding.py:90: UserWarning: Argument `input_length` is deprecated. Just remove it.\n",
            "  warnings.warn(\n"
          ]
        },
        {
          "name": "stdout",
          "output_type": "stream",
          "text": [
            "\u001b[1m221/221\u001b[0m \u001b[32m━━━━━━━━━━━━━━━━━━━━\u001b[0m\u001b[37m\u001b[0m \u001b[1m32s\u001b[0m 125ms/step - accuracy: 0.8057 - loss: 0.3754 - val_accuracy: 0.9399 - val_loss: 0.1538\n",
            "Epoch 2/10\n",
            "\u001b[1m221/221\u001b[0m \u001b[32m━━━━━━━━━━━━━━━━━━━━\u001b[0m\u001b[37m\u001b[0m \u001b[1m41s\u001b[0m 125ms/step - accuracy: 0.9599 - loss: 0.1147 - val_accuracy: 0.9453 - val_loss: 0.1490\n",
            "Epoch 3/10\n",
            "\u001b[1m221/221\u001b[0m \u001b[32m━━━━━━━━━━━━━━━━━━━━\u001b[0m\u001b[37m\u001b[0m \u001b[1m40s\u001b[0m 123ms/step - accuracy: 0.9712 - loss: 0.0859 - val_accuracy: 0.9380 - val_loss: 0.1527\n",
            "Epoch 4/10\n",
            "\u001b[1m221/221\u001b[0m \u001b[32m━━━━━━━━━━━━━━━━━━━━\u001b[0m\u001b[37m\u001b[0m \u001b[1m40s\u001b[0m 119ms/step - accuracy: 0.9765 - loss: 0.0728 - val_accuracy: 0.9418 - val_loss: 0.1562\n"
          ]
        },
        {
          "data": {
            "text/plain": [
              "<keras.src.callbacks.history.History at 0x7963027cf8d0>"
            ]
          },
          "execution_count": 44,
          "metadata": {},
          "output_type": "execute_result"
        }
      ],
      "source": [
        "model = Sequential([\n",
        "    Embedding(input_dim=5000, output_dim=64, input_length=300),\n",
        "    LSTM(128, dropout=0.3, recurrent_dropout=0.3),\n",
        "    Dense(1, activation='sigmoid')\n",
        "])\n",
        "from sklearn.model_selection import train_test_split\n",
        "\n",
        "X_train, X_test, y_train, y_test = train_test_split(X_padded, y, test_size=0.3, random_state=42)\n",
        "model.compile(loss='binary_crossentropy', optimizer='adam', metrics=['accuracy'])\n",
        "early_stop = EarlyStopping(monitor='val_loss', patience=2, restore_best_weights=True)\n",
        "class_weights = compute_class_weight(class_weight='balanced', classes=np.array([0, 1]), y=y_train)\n",
        "model.fit(X_train, y_train, epochs=10, batch_size=128, validation_split=0.1, callbacks=[early_stop],class_weight={0: class_weights[0], 1: class_weights[1]})\n"
      ]
    },
    {
      "cell_type": "code",
      "execution_count": 61,
      "metadata": {
        "colab": {
          "base_uri": "https://localhost:8080/",
          "height": 413
        },
        "id": "vSqVVKdP4dyq",
        "outputId": "dcd81817-9fd9-4ba1-b793-6472b9d0ef35"
      },
      "outputs": [
        {
          "data": {
            "text/html": [
              "<pre style=\"white-space:pre;overflow-x:auto;line-height:normal;font-family:Menlo,'DejaVu Sans Mono',consolas,'Courier New',monospace\"><span style=\"font-weight: bold\">Model: \"sequential_7\"</span>\n",
              "</pre>\n"
            ],
            "text/plain": [
              "\u001b[1mModel: \"sequential_7\"\u001b[0m\n"
            ]
          },
          "metadata": {},
          "output_type": "display_data"
        },
        {
          "data": {
            "text/html": [
              "<pre style=\"white-space:pre;overflow-x:auto;line-height:normal;font-family:Menlo,'DejaVu Sans Mono',consolas,'Courier New',monospace\">┏━━━━━━━━━━━━━━━━━━━━━━━━━━━━━━━━━┳━━━━━━━━━━━━━━━━━━━━━━━━┳━━━━━━━━━━━━━━━┓\n",
              "┃<span style=\"font-weight: bold\"> Layer (type)                    </span>┃<span style=\"font-weight: bold\"> Output Shape           </span>┃<span style=\"font-weight: bold\">       Param # </span>┃\n",
              "┡━━━━━━━━━━━━━━━━━━━━━━━━━━━━━━━━━╇━━━━━━━━━━━━━━━━━━━━━━━━╇━━━━━━━━━━━━━━━┩\n",
              "│ embedding_2 (<span style=\"color: #0087ff; text-decoration-color: #0087ff\">Embedding</span>)         │ ?                      │   <span style=\"color: #00af00; text-decoration-color: #00af00\">0</span> (unbuilt) │\n",
              "├─────────────────────────────────┼────────────────────────┼───────────────┤\n",
              "│ bidirectional_1 (<span style=\"color: #0087ff; text-decoration-color: #0087ff\">Bidirectional</span>) │ ?                      │   <span style=\"color: #00af00; text-decoration-color: #00af00\">0</span> (unbuilt) │\n",
              "├─────────────────────────────────┼────────────────────────┼───────────────┤\n",
              "│ dense_4 (<span style=\"color: #0087ff; text-decoration-color: #0087ff\">Dense</span>)                 │ ?                      │   <span style=\"color: #00af00; text-decoration-color: #00af00\">0</span> (unbuilt) │\n",
              "├─────────────────────────────────┼────────────────────────┼───────────────┤\n",
              "│ dense_5 (<span style=\"color: #0087ff; text-decoration-color: #0087ff\">Dense</span>)                 │ ?                      │   <span style=\"color: #00af00; text-decoration-color: #00af00\">0</span> (unbuilt) │\n",
              "└─────────────────────────────────┴────────────────────────┴───────────────┘\n",
              "</pre>\n"
            ],
            "text/plain": [
              "┏━━━━━━━━━━━━━━━━━━━━━━━━━━━━━━━━━┳━━━━━━━━━━━━━━━━━━━━━━━━┳━━━━━━━━━━━━━━━┓\n",
              "┃\u001b[1m \u001b[0m\u001b[1mLayer (type)                   \u001b[0m\u001b[1m \u001b[0m┃\u001b[1m \u001b[0m\u001b[1mOutput Shape          \u001b[0m\u001b[1m \u001b[0m┃\u001b[1m \u001b[0m\u001b[1m      Param #\u001b[0m\u001b[1m \u001b[0m┃\n",
              "┡━━━━━━━━━━━━━━━━━━━━━━━━━━━━━━━━━╇━━━━━━━━━━━━━━━━━━━━━━━━╇━━━━━━━━━━━━━━━┩\n",
              "│ embedding_2 (\u001b[38;5;33mEmbedding\u001b[0m)         │ ?                      │   \u001b[38;5;34m0\u001b[0m (unbuilt) │\n",
              "├─────────────────────────────────┼────────────────────────┼───────────────┤\n",
              "│ bidirectional_1 (\u001b[38;5;33mBidirectional\u001b[0m) │ ?                      │   \u001b[38;5;34m0\u001b[0m (unbuilt) │\n",
              "├─────────────────────────────────┼────────────────────────┼───────────────┤\n",
              "│ dense_4 (\u001b[38;5;33mDense\u001b[0m)                 │ ?                      │   \u001b[38;5;34m0\u001b[0m (unbuilt) │\n",
              "├─────────────────────────────────┼────────────────────────┼───────────────┤\n",
              "│ dense_5 (\u001b[38;5;33mDense\u001b[0m)                 │ ?                      │   \u001b[38;5;34m0\u001b[0m (unbuilt) │\n",
              "└─────────────────────────────────┴────────────────────────┴───────────────┘\n"
            ]
          },
          "metadata": {},
          "output_type": "display_data"
        },
        {
          "data": {
            "text/html": [
              "<pre style=\"white-space:pre;overflow-x:auto;line-height:normal;font-family:Menlo,'DejaVu Sans Mono',consolas,'Courier New',monospace\"><span style=\"font-weight: bold\"> Total params: </span><span style=\"color: #00af00; text-decoration-color: #00af00\">0</span> (0.00 B)\n",
              "</pre>\n"
            ],
            "text/plain": [
              "\u001b[1m Total params: \u001b[0m\u001b[38;5;34m0\u001b[0m (0.00 B)\n"
            ]
          },
          "metadata": {},
          "output_type": "display_data"
        },
        {
          "data": {
            "text/html": [
              "<pre style=\"white-space:pre;overflow-x:auto;line-height:normal;font-family:Menlo,'DejaVu Sans Mono',consolas,'Courier New',monospace\"><span style=\"font-weight: bold\"> Trainable params: </span><span style=\"color: #00af00; text-decoration-color: #00af00\">0</span> (0.00 B)\n",
              "</pre>\n"
            ],
            "text/plain": [
              "\u001b[1m Trainable params: \u001b[0m\u001b[38;5;34m0\u001b[0m (0.00 B)\n"
            ]
          },
          "metadata": {},
          "output_type": "display_data"
        },
        {
          "data": {
            "text/html": [
              "<pre style=\"white-space:pre;overflow-x:auto;line-height:normal;font-family:Menlo,'DejaVu Sans Mono',consolas,'Courier New',monospace\"><span style=\"font-weight: bold\"> Non-trainable params: </span><span style=\"color: #00af00; text-decoration-color: #00af00\">0</span> (0.00 B)\n",
              "</pre>\n"
            ],
            "text/plain": [
              "\u001b[1m Non-trainable params: \u001b[0m\u001b[38;5;34m0\u001b[0m (0.00 B)\n"
            ]
          },
          "metadata": {},
          "output_type": "display_data"
        },
        {
          "name": "stdout",
          "output_type": "stream",
          "text": [
            "Epoch 1/10\n",
            "\u001b[1m221/221\u001b[0m \u001b[32m━━━━━━━━━━━━━━━━━━━━\u001b[0m\u001b[37m\u001b[0m \u001b[1m41s\u001b[0m 163ms/step - accuracy: 0.8351 - loss: 0.3329 - val_accuracy: 0.9475 - val_loss: 0.1330\n",
            "Epoch 2/10\n",
            "\u001b[1m221/221\u001b[0m \u001b[32m━━━━━━━━━━━━━━━━━━━━\u001b[0m\u001b[37m\u001b[0m \u001b[1m39s\u001b[0m 157ms/step - accuracy: 0.9699 - loss: 0.0838 - val_accuracy: 0.9472 - val_loss: 0.1297\n",
            "Epoch 3/10\n",
            "\u001b[1m221/221\u001b[0m \u001b[32m━━━━━━━━━━━━━━━━━━━━\u001b[0m\u001b[37m\u001b[0m \u001b[1m44s\u001b[0m 169ms/step - accuracy: 0.9836 - loss: 0.0499 - val_accuracy: 0.9475 - val_loss: 0.1434\n",
            "Epoch 4/10\n",
            "\u001b[1m221/221\u001b[0m \u001b[32m━━━━━━━━━━━━━━━━━━━━\u001b[0m\u001b[37m\u001b[0m \u001b[1m38s\u001b[0m 156ms/step - accuracy: 0.9866 - loss: 0.0385 - val_accuracy: 0.9497 - val_loss: 0.1589\n"
          ]
        },
        {
          "data": {
            "text/plain": [
              "<keras.src.callbacks.history.History at 0x7962906f59d0>"
            ]
          },
          "execution_count": 61,
          "metadata": {},
          "output_type": "execute_result"
        }
      ],
      "source": [
        "from tensorflow.keras.layers import Bidirectional,Embedding\n",
        "# Sequential Model\n",
        "model = Sequential()\n",
        "total_words = 5000\n",
        "# embeddidng layer\n",
        "model.add(Embedding(total_words, output_dim = 128))\n",
        "# model.add(Embedding(total_words, output_dim = 240))\n",
        "\n",
        "\n",
        "# Bi-Directional RNN and LSTM\n",
        "model.add(Bidirectional(LSTM(128))) # no of neurons\n",
        "\n",
        "# Dense layers\n",
        "model.add(Dense(128, activation = 'relu'))\n",
        "model.add(Dense(1,activation= 'sigmoid')) # reason: we do binary classification here\n",
        "model.compile(optimizer='adam', loss='binary_crossentropy', metrics=['acc'])\n",
        "model.summary()\n",
        "from sklearn.model_selection import train_test_split\n",
        "\n",
        "X_train, X_test, y_train, y_test = train_test_split(X_padded, y, test_size=0.3, random_state=42)\n",
        "model.compile(loss='binary_crossentropy', optimizer='adam', metrics=['accuracy'])\n",
        "early_stop = EarlyStopping(monitor='val_loss', patience=2, restore_best_weights=True)\n",
        "class_weights = compute_class_weight(class_weight='balanced', classes=np.array([0, 1]), y=y_train)\n",
        "model.fit(X_train, y_train, epochs=10, batch_size=128, validation_split=0.1, callbacks=[early_stop],class_weight={0: class_weights[0], 1: class_weights[1]})\n"
      ]
    },
    {
      "cell_type": "code",
      "execution_count": 62,
      "metadata": {
        "colab": {
          "base_uri": "https://localhost:8080/"
        },
        "id": "oskWP4XlXhcO",
        "outputId": "a4a3a237-73cb-4d36-9e13-8830110a640d"
      },
      "outputs": [
        {
          "name": "stdout",
          "output_type": "stream",
          "text": [
            "\u001b[1m421/421\u001b[0m \u001b[32m━━━━━━━━━━━━━━━━━━━━\u001b[0m\u001b[37m\u001b[0m \u001b[1m10s\u001b[0m 23ms/step\n",
            "Accuracy Score: 0.9525612472160356\n"
          ]
        }
      ],
      "source": [
        "y_pred = (model.predict(X_test) > 0.5).astype(\"int32\")\n",
        "accuracy = accuracy_score(y_test, y_pred)\n",
        "print(\"Accuracy Score:\", accuracy)"
      ]
    },
    {
      "cell_type": "markdown",
      "metadata": {
        "id": "VUr11xJFxcG0"
      },
      "source": [
        "Predicting"
      ]
    },
    {
      "cell_type": "code",
      "execution_count": 64,
      "metadata": {
        "id": "behSKCDWwYPk"
      },
      "outputs": [],
      "source": [
        "def predict_news(text):\n",
        "\n",
        "    tokenizer = Tokenizer(num_words=5000, oov_token=\"<OOV>\")\n",
        "    tokenizer.fit_on_texts(text)\n",
        "    sequences = tokenizer.texts_to_sequences(text)\n",
        "    maxlen = 20\n",
        "    padded = pad_sequences(sequences, maxlen=maxlen, padding='post')\n",
        "    pred = model.predict(padded)[0][0]\n",
        "\n",
        "\n",
        "\n",
        "    label = \"Real News\" if pred > 0.5 else \"Fake News\"\n",
        "    print(f\"Prediction: {label} ({pred:.2f})\")\n"
      ]
    },
    {
      "cell_type": "code",
      "execution_count": 69,
      "metadata": {
        "colab": {
          "base_uri": "https://localhost:8080/"
        },
        "id": "8EAeSjKBmpFI",
        "outputId": "1e1002ae-fdf6-4e2a-905f-531676adc9de"
      },
      "outputs": [
        {
          "name": "stdout",
          "output_type": "stream",
          "text": [
            "\u001b[1m2/2\u001b[0m \u001b[32m━━━━━━━━━━━━━━━━━━━━\u001b[0m\u001b[37m\u001b[0m \u001b[1m0s\u001b[0m 55ms/step \n",
            "Prediction: Real News (0.71)\n",
            "\u001b[1m2/2\u001b[0m \u001b[32m━━━━━━━━━━━━━━━━━━━━\u001b[0m\u001b[37m\u001b[0m \u001b[1m0s\u001b[0m 42ms/step\n",
            "Prediction: Real News (0.70)\n",
            "\u001b[1m2/2\u001b[0m \u001b[32m━━━━━━━━━━━━━━━━━━━━\u001b[0m\u001b[37m\u001b[0m \u001b[1m0s\u001b[0m 74ms/step\n",
            "Prediction: Real News (0.98)\n",
            "\u001b[1m2/2\u001b[0m \u001b[32m━━━━━━━━━━━━━━━━━━━━\u001b[0m\u001b[37m\u001b[0m \u001b[1m0s\u001b[0m 74ms/step\n",
            "Prediction: Real News (0.89)\n",
            "\u001b[1m2/2\u001b[0m \u001b[32m━━━━━━━━━━━━━━━━━━━━\u001b[0m\u001b[37m\u001b[0m \u001b[1m0s\u001b[0m 33ms/step\n",
            "Prediction: Fake News (0.49)\n",
            "\u001b[1m2/2\u001b[0m \u001b[32m━━━━━━━━━━━━━━━━━━━━\u001b[0m\u001b[37m\u001b[0m \u001b[1m0s\u001b[0m 31ms/step\n",
            "Prediction: Fake News (0.36)\n",
            "\u001b[1m3/3\u001b[0m \u001b[32m━━━━━━━━━━━━━━━━━━━━\u001b[0m\u001b[37m\u001b[0m \u001b[1m0s\u001b[0m 21ms/step\n",
            "Prediction: Real News (0.97)\n",
            "\u001b[1m3/3\u001b[0m \u001b[32m━━━━━━━━━━━━━━━━━━━━\u001b[0m\u001b[37m\u001b[0m \u001b[1m0s\u001b[0m 21ms/step\n",
            "Prediction: Real News (0.84)\n",
            "\u001b[1m2/2\u001b[0m \u001b[32m━━━━━━━━━━━━━━━━━━━━\u001b[0m\u001b[37m\u001b[0m \u001b[1m0s\u001b[0m 35ms/step\n",
            "Prediction: Real News (0.97)\n",
            "\u001b[1m2/2\u001b[0m \u001b[32m━━━━━━━━━━━━━━━━━━━━\u001b[0m\u001b[37m\u001b[0m \u001b[1m0s\u001b[0m 27ms/step\n",
            "Prediction: Fake News (0.49)\n"
          ]
        }
      ],
      "source": [
        "predict_news(\"NASA Confirms Presence of Water on the Moon\")\n",
        "predict_news(\"World Health Organization Approves Malaria Vaccine\")\n",
        "predict_news(\"Apple Unveils Next-Generation iPhone with New AI Features\")\n",
        "predict_news(\"UN Climate Agreement Signed by 150 Nations\")\n",
        "predict_news(\"Pfizer Announces New Drug to Treat Lung Cancer\")\n",
        "\n",
        "predict_news(\"Bill Gates Installs Tracking Chips in COVID Vaccines\")\n",
        "predict_news(\"Aliens Found Working at Go cgjvhbnklhxdtybhonjbfvyuogle Headquarters\")\n",
        "predict_news(\"5G Towers Responsible for Birhvjhkjcfh kgjbhkjkld Deaths Across the Globe\")\n",
        "predict_news(\"The Earth is Flat and NASA Faked Allfgxitgxcyktv Space Missions\")\n",
        "predict_news(\"Drinking Bleach Can Cure Coronavirus, Experts Say\")\n"
      ]
    }
  ],
  "metadata": {
    "accelerator": "GPU",
    "colab": {
      "gpuType": "T4",
      "provenance": []
    },
    "kernelspec": {
      "display_name": "Python 3",
      "name": "python3"
    },
    "language_info": {
      "name": "python"
    }
  },
  "nbformat": 4,
  "nbformat_minor": 0
}
